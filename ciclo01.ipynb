{
 "cells": [
  {
   "cell_type": "markdown",
   "metadata": {},
   "source": [
    "# Questão de Negócio\n"
   ]
  },
  {
   "cell_type": "markdown",
   "metadata": {},
   "source": [
    "# Modelos"
   ]
  },
  {
   "cell_type": "code",
   "execution_count": null,
   "metadata": {},
   "outputs": [],
   "source": [
    "\n",
    "\n",
    "# # Questão de Negócio\n",
    "# # Defina claramente a questão que deseja responder com os dados, como identificar clientes insatisfeitos.\n",
    "# # Definir e identificar clientes satisfeitos ou insatisfeitos.\n",
    "\n",
    "# # Entendimento de Negócio\n",
    "# # Realizar análise detalhada do negócio, entendendo as necessidades e requisitos para a classificação de satisfação dos clientes.\n",
    "\n",
    "# # Coleta de dados\n",
    "# # Carregar os dados dos clientes de uma planilha ou fonte de dados.\n",
    "# dados_clientes = pd.read_csv('dataset/tra')\n",
    "\n",
    "# # Limpeza de dados\n",
    "# # Realizar a limpeza dos dados, tratando valores ausentes, removendo duplicatas ou corrigindo erros.\n",
    "# dados_clientes = dados_clientes.dropna()\n",
    "# dados_clientes = dados_clientes.drop_duplicates()\n",
    "\n",
    "# # Exploração de dados\n",
    "# # Analisar os dados e explorar as informações relevantes para entender os padrões e características dos clientes.\n",
    "# # Exemplo de exploração: verificar a distribuição de satisfação dos clientes\n",
    "# satisfacao_counts = dados_clientes['Satisfacao'].value_counts()\n",
    "# print(satisfacao_counts)\n",
    "\n",
    "# # Modelagem de dados\n",
    "# # Preparar os dados para modelagem, dividindo-os em atributos de entrada (X) e variável alvo (y).\n",
    "# X = dados_clientes.drop('Satisfacao', axis=1)\n",
    "# y = dados_clientes['Satisfacao']\n",
    "\n",
    "# # Dividir os dados em conjuntos de treinamento e teste\n",
    "# X_train, X_test, y_train, y_test = train_test_split(X, y, test_size=0.2, random_state=42)\n",
    "\n",
    "# # Aplicação dos algoritmos de ML\n",
    "# # Escolher e aplicar um algoritmo de aprendizado de máquina, como regressão logística.\n",
    "# modelo = LogisticRegression()\n",
    "# modelo.fit(X_train, y_train)\n",
    "\n",
    "# # Avaliação de performance dos algoritmos\n",
    "# # Avaliar o desempenho do modelo utilizando métricas, como acurácia.\n",
    "# y_pred = modelo.predict(X_test)\n",
    "# acuracia = accuracy_score(y_test, y_pred)\n",
    "# print(\"Acurácia do modelo:\", acuracia)\n",
    "\n",
    "# # Publicação do modelo em Produção\n",
    "# # Utilizar o modelo treinado para prever a satisfação de novos clientes em produção.\n",
    "# novo_cliente = pd.DataFrame([[...]])  # Dados do novo cliente\n",
    "# satisfacao_pred = modelo.predict(novo_cliente)\n",
    "# print(\"Previsão de satisfação:\", satisfacao_pred)\n"
   ]
  },
  {
   "cell_type": "markdown",
   "metadata": {},
   "source": [
    "# Ciclo 1"
   ]
  },
  {
   "cell_type": "markdown",
   "metadata": {},
   "source": [
    "Com base em todas as informações fornecidas, aqui está uma possível abordagem para resolver o problema de satisfação do cliente da InStyle, utilizando as etapas de um projeto de dados:\n",
    "\n",
    "Questão de Negócio:\n",
    "Identificar clientes satisfeitos e insatisfeitos para melhorar a experiência do cliente e aumentar a taxa de satisfação.\n",
    "Entendimento de Negócio:\n",
    "Analisar os desafios enfrentados pela InStyle, como dificuldade em determinar as necessidades dos clientes, problemas de marketing e desenvolvimento, além de quedas do sistema. Identificar a importância da medição da satisfação do cliente para a reputação da empresa.\n",
    "Coleta de dados:\n",
    "Carregar os dados relevantes da InStyle, como informações dos clientes, histórico de compras, feedbacks e reclamações, em um DataFrame a partir dos arquivos CSV fornecidos (train.csv e test.csv).\n",
    "Limpeza de dados:\n",
    "Realizar a limpeza dos dados, tratando valores ausentes, removendo duplicatas e corrigindo erros, se necessário. Garantir que os dados estejam prontos para a análise e modelagem.\n",
    "Exploração de dados:\n",
    "Analisar os dados, realizar estatísticas descritivas e visualizações para entender a distribuição, padrões e relações entre as variáveis. Identificar insights relevantes sobre a satisfação do cliente e possíveis fatores influentes.\n",
    "Modelagem de dados:\n",
    "Preparar os dados para a modelagem, dividindo-os em conjuntos de treinamento (train.csv) e teste (test.csv). Definir os atributos de entrada (X) e a variável alvo (y).\n",
    "Aplicação dos algoritmos de ML:\n",
    "Escolher um algoritmo de aprendizado de máquina adequado, como regressão logística, árvore de decisão ou Random Forest. Treinar o modelo utilizando os dados de treinamento, ajustando-o aos padrões identificados nos dados.\n",
    "Avaliação de performance dos algoritmos:\n",
    "Avaliar o desempenho do modelo utilizando métricas apropriadas, como acurácia, precisão, recall ou F1-score. Utilizar os dados de teste para avaliar a capacidade do modelo em generalizar em dados não vistos anteriormente.\n",
    "Publicação do modelo em Produção:\n",
    "Implantar o modelo treinado em produção, permitindo que seja usado para prever a satisfação de novos clientes. Por exemplo, fornecer informações de um novo cliente ao modelo e obter uma previsão de sua satisfação.\n",
    "Essa abordagem abrange todas as etapas importantes de um projeto de dados, desde a compreensão do problema de negócio até a publicação do modelo em produção. Lembre-se de personalizar e ajustar o código de acordo com as características específicas dos dados e dos algoritmos escolhidos."
   ]
  },
  {
   "cell_type": "markdown",
   "metadata": {},
   "source": [
    "# 0.0 Imports"
   ]
  },
  {
   "cell_type": "code",
   "execution_count": 82,
   "metadata": {},
   "outputs": [],
   "source": [
    "# Importar bibliotecas \n",
    "\n",
    "import numpy as np\n",
    "import pandas as pd\n",
    "import seaborn as sns\n",
    "\n",
    "import sweetviz as sv\n",
    "\n",
    "\n",
    "\n",
    "# import matplotlib.pyplot as plt\n",
    "# from sklearn.model_selection import train_test_split\n",
    "# from sklearn.linear_model import LogisticRegression\n",
    "# from sklearn.metrics import accuracy_score\n",
    "\n",
    "\n",
    "%matplotlib inline\n",
    "snb.set_style('whitegrid')\n",
    "warnings.filterwarnings('ignore')\n"
   ]
  },
  {
   "cell_type": "markdown",
   "metadata": {},
   "source": [
    "## Functions"
   ]
  },
  {
   "cell_type": "code",
   "execution_count": 83,
   "metadata": {},
   "outputs": [],
   "source": [
    "def show_dtypes(df):\n",
    "    print(df.dtypes)\n",
    "    return None\n",
    "\n",
    "def show_dimensions(df):\n",
    "    print('Number of rows: {}' .format(df.shape[0]))\n",
    "    print('Number of columns: {}' .format(df.shape[1]))\n",
    "    return None\n",
    "\n",
    "def cramer_v( x, y ):\n",
    "    cm = pd.crosstab( x, y ).to_numpy()\n",
    "    n = cm.sum()\n",
    "    r, k = cm.shape\n",
    "    \n",
    "    chi2 = stats.chi2_contingency( cm )[0]\n",
    "    chi2corr = max( 0, chi2 - (k-1)*(r-1)/(n-1) )\n",
    "    \n",
    "    kcorr = k - (k-1)**2/(n-1)\n",
    "    rcorr = r - (r-1)**2/(n-1)\n",
    "    return round(np.sqrt( (chi2corr/n) / ( min( kcorr-1, rcorr-1 ) ) ),2)"
   ]
  },
  {
   "cell_type": "markdown",
   "metadata": {},
   "source": [
    "# 1.0 Loading Data"
   ]
  },
  {
   "cell_type": "code",
   "execution_count": 84,
   "metadata": {},
   "outputs": [],
   "source": [
    "# Coleta de dados\n",
    "# Carregar os dados de treinamento e teste a partir dos arquivos CSV\n",
    "df_train = pd.read_csv('dataset/train.csv')\n",
    "df_teste = pd.read_csv('dataset/test.csv')\n",
    "sub_m = pd.read_csv('dataset/submission.csv')\n",
    "\n"
   ]
  },
  {
   "cell_type": "markdown",
   "metadata": {},
   "source": [
    "## Data descrip"
   ]
  },
  {
   "cell_type": "code",
   "execution_count": 85,
   "metadata": {},
   "outputs": [],
   "source": [
    "df = df_train.copy()"
   ]
  },
  {
   "cell_type": "code",
   "execution_count": 86,
   "metadata": {},
   "outputs": [
    {
     "data": {
      "text/html": [
       "<div>\n",
       "<style scoped>\n",
       "    .dataframe tbody tr th:only-of-type {\n",
       "        vertical-align: middle;\n",
       "    }\n",
       "\n",
       "    .dataframe tbody tr th {\n",
       "        vertical-align: top;\n",
       "    }\n",
       "\n",
       "    .dataframe thead th {\n",
       "        text-align: right;\n",
       "    }\n",
       "</style>\n",
       "<table border=\"1\" class=\"dataframe\">\n",
       "  <thead>\n",
       "    <tr style=\"text-align: right;\">\n",
       "      <th></th>\n",
       "      <th>id</th>\n",
       "      <th>Gender</th>\n",
       "      <th>Customer Type</th>\n",
       "      <th>Age</th>\n",
       "      <th>Type of Purchase</th>\n",
       "      <th>Store size</th>\n",
       "      <th>Store distance</th>\n",
       "      <th>InStore wifi</th>\n",
       "      <th>Open/Close time convenient</th>\n",
       "      <th>Easy of online shopping</th>\n",
       "      <th>...</th>\n",
       "      <th>Kids entertainment</th>\n",
       "      <th>Seller service</th>\n",
       "      <th>Showroom</th>\n",
       "      <th>Self-Store</th>\n",
       "      <th>Purchase service</th>\n",
       "      <th>Store Service</th>\n",
       "      <th>Cleanliness</th>\n",
       "      <th>Carrier delay in minutes</th>\n",
       "      <th>Delivery delay in minutes</th>\n",
       "      <th>Satisfaction</th>\n",
       "    </tr>\n",
       "  </thead>\n",
       "  <tbody>\n",
       "    <tr>\n",
       "      <th>0</th>\n",
       "      <td>70172</td>\n",
       "      <td>Male</td>\n",
       "      <td>Loyal Customer</td>\n",
       "      <td>13</td>\n",
       "      <td>Personal</td>\n",
       "      <td>Small</td>\n",
       "      <td>460</td>\n",
       "      <td>3</td>\n",
       "      <td>4</td>\n",
       "      <td>3</td>\n",
       "      <td>...</td>\n",
       "      <td>5</td>\n",
       "      <td>4</td>\n",
       "      <td>3</td>\n",
       "      <td>4</td>\n",
       "      <td>4</td>\n",
       "      <td>5</td>\n",
       "      <td>5</td>\n",
       "      <td>25</td>\n",
       "      <td>18.0</td>\n",
       "      <td>Neutral or Dissatisfaction</td>\n",
       "    </tr>\n",
       "    <tr>\n",
       "      <th>1</th>\n",
       "      <td>5047</td>\n",
       "      <td>Male</td>\n",
       "      <td>disloyal Customer</td>\n",
       "      <td>25</td>\n",
       "      <td>Gift</td>\n",
       "      <td>Large</td>\n",
       "      <td>235</td>\n",
       "      <td>3</td>\n",
       "      <td>2</td>\n",
       "      <td>3</td>\n",
       "      <td>...</td>\n",
       "      <td>1</td>\n",
       "      <td>1</td>\n",
       "      <td>5</td>\n",
       "      <td>3</td>\n",
       "      <td>1</td>\n",
       "      <td>4</td>\n",
       "      <td>1</td>\n",
       "      <td>1</td>\n",
       "      <td>6.0</td>\n",
       "      <td>Neutral or Dissatisfaction</td>\n",
       "    </tr>\n",
       "    <tr>\n",
       "      <th>2</th>\n",
       "      <td>110028</td>\n",
       "      <td>Female</td>\n",
       "      <td>Loyal Customer</td>\n",
       "      <td>26</td>\n",
       "      <td>Gift</td>\n",
       "      <td>Large</td>\n",
       "      <td>1142</td>\n",
       "      <td>2</td>\n",
       "      <td>2</td>\n",
       "      <td>2</td>\n",
       "      <td>...</td>\n",
       "      <td>5</td>\n",
       "      <td>4</td>\n",
       "      <td>3</td>\n",
       "      <td>4</td>\n",
       "      <td>4</td>\n",
       "      <td>4</td>\n",
       "      <td>5</td>\n",
       "      <td>0</td>\n",
       "      <td>0.0</td>\n",
       "      <td>Satisfied</td>\n",
       "    </tr>\n",
       "    <tr>\n",
       "      <th>3</th>\n",
       "      <td>24026</td>\n",
       "      <td>Female</td>\n",
       "      <td>Loyal Customer</td>\n",
       "      <td>25</td>\n",
       "      <td>Gift</td>\n",
       "      <td>Large</td>\n",
       "      <td>562</td>\n",
       "      <td>2</td>\n",
       "      <td>5</td>\n",
       "      <td>5</td>\n",
       "      <td>...</td>\n",
       "      <td>2</td>\n",
       "      <td>2</td>\n",
       "      <td>5</td>\n",
       "      <td>3</td>\n",
       "      <td>1</td>\n",
       "      <td>4</td>\n",
       "      <td>2</td>\n",
       "      <td>11</td>\n",
       "      <td>9.0</td>\n",
       "      <td>Neutral or Dissatisfaction</td>\n",
       "    </tr>\n",
       "    <tr>\n",
       "      <th>4</th>\n",
       "      <td>119299</td>\n",
       "      <td>Male</td>\n",
       "      <td>Loyal Customer</td>\n",
       "      <td>61</td>\n",
       "      <td>Gift</td>\n",
       "      <td>Large</td>\n",
       "      <td>214</td>\n",
       "      <td>3</td>\n",
       "      <td>3</td>\n",
       "      <td>3</td>\n",
       "      <td>...</td>\n",
       "      <td>3</td>\n",
       "      <td>3</td>\n",
       "      <td>4</td>\n",
       "      <td>4</td>\n",
       "      <td>3</td>\n",
       "      <td>3</td>\n",
       "      <td>3</td>\n",
       "      <td>0</td>\n",
       "      <td>0.0</td>\n",
       "      <td>Satisfied</td>\n",
       "    </tr>\n",
       "  </tbody>\n",
       "</table>\n",
       "<p>5 rows × 24 columns</p>\n",
       "</div>"
      ],
      "text/plain": [
       "       id  Gender      Customer Type  Age Type of Purchase Store size  \\\n",
       "0   70172    Male     Loyal Customer   13         Personal      Small   \n",
       "1    5047    Male  disloyal Customer   25             Gift      Large   \n",
       "2  110028  Female     Loyal Customer   26             Gift      Large   \n",
       "3   24026  Female     Loyal Customer   25             Gift      Large   \n",
       "4  119299    Male     Loyal Customer   61             Gift      Large   \n",
       "\n",
       "   Store distance  InStore wifi  Open/Close time convenient  \\\n",
       "0             460             3                           4   \n",
       "1             235             3                           2   \n",
       "2            1142             2                           2   \n",
       "3             562             2                           5   \n",
       "4             214             3                           3   \n",
       "\n",
       "   Easy of online shopping  ...  Kids entertainment  Seller service  \\\n",
       "0                        3  ...                   5               4   \n",
       "1                        3  ...                   1               1   \n",
       "2                        2  ...                   5               4   \n",
       "3                        5  ...                   2               2   \n",
       "4                        3  ...                   3               3   \n",
       "\n",
       "   Showroom   Self-Store  Purchase service  Store Service  Cleanliness  \\\n",
       "0          3           4                 4              5            5   \n",
       "1          5           3                 1              4            1   \n",
       "2          3           4                 4              4            5   \n",
       "3          5           3                 1              4            2   \n",
       "4          4           4                 3              3            3   \n",
       "\n",
       "   Carrier delay in minutes  Delivery delay in minutes  \\\n",
       "0                        25                       18.0   \n",
       "1                         1                        6.0   \n",
       "2                         0                        0.0   \n",
       "3                        11                        9.0   \n",
       "4                         0                        0.0   \n",
       "\n",
       "                 Satisfaction  \n",
       "0  Neutral or Dissatisfaction  \n",
       "1  Neutral or Dissatisfaction  \n",
       "2                   Satisfied  \n",
       "3  Neutral or Dissatisfaction  \n",
       "4                   Satisfied  \n",
       "\n",
       "[5 rows x 24 columns]"
      ]
     },
     "execution_count": 86,
     "metadata": {},
     "output_type": "execute_result"
    }
   ],
   "source": [
    "df.head()"
   ]
  },
  {
   "cell_type": "code",
   "execution_count": 87,
   "metadata": {},
   "outputs": [
    {
     "data": {
      "text/html": [
       "<div>\n",
       "<style scoped>\n",
       "    .dataframe tbody tr th:only-of-type {\n",
       "        vertical-align: middle;\n",
       "    }\n",
       "\n",
       "    .dataframe tbody tr th {\n",
       "        vertical-align: top;\n",
       "    }\n",
       "\n",
       "    .dataframe thead th {\n",
       "        text-align: right;\n",
       "    }\n",
       "</style>\n",
       "<table border=\"1\" class=\"dataframe\">\n",
       "  <thead>\n",
       "    <tr style=\"text-align: right;\">\n",
       "      <th></th>\n",
       "      <th>id</th>\n",
       "      <th>Age</th>\n",
       "      <th>Store distance</th>\n",
       "      <th>InStore wifi</th>\n",
       "      <th>Open/Close time convenient</th>\n",
       "      <th>Easy of online shopping</th>\n",
       "      <th>Store location</th>\n",
       "      <th>Toilet cleaning</th>\n",
       "      <th>Dressing room</th>\n",
       "      <th>Waiting room</th>\n",
       "      <th>Kids entertainment</th>\n",
       "      <th>Seller service</th>\n",
       "      <th>Showroom</th>\n",
       "      <th>Self-Store</th>\n",
       "      <th>Purchase service</th>\n",
       "      <th>Store Service</th>\n",
       "      <th>Cleanliness</th>\n",
       "      <th>Carrier delay in minutes</th>\n",
       "      <th>Delivery delay in minutes</th>\n",
       "    </tr>\n",
       "  </thead>\n",
       "  <tbody>\n",
       "    <tr>\n",
       "      <th>count</th>\n",
       "      <td>103904.000000</td>\n",
       "      <td>103904.000000</td>\n",
       "      <td>103904.000000</td>\n",
       "      <td>103904.000000</td>\n",
       "      <td>103904.000000</td>\n",
       "      <td>103904.000000</td>\n",
       "      <td>103904.000000</td>\n",
       "      <td>103904.000000</td>\n",
       "      <td>103904.000000</td>\n",
       "      <td>103904.000000</td>\n",
       "      <td>103904.000000</td>\n",
       "      <td>103904.000000</td>\n",
       "      <td>103904.000000</td>\n",
       "      <td>103904.000000</td>\n",
       "      <td>103904.000000</td>\n",
       "      <td>103904.000000</td>\n",
       "      <td>103904.000000</td>\n",
       "      <td>103904.000000</td>\n",
       "      <td>103594.000000</td>\n",
       "    </tr>\n",
       "    <tr>\n",
       "      <th>mean</th>\n",
       "      <td>64924.210502</td>\n",
       "      <td>39.379706</td>\n",
       "      <td>1189.448375</td>\n",
       "      <td>2.729683</td>\n",
       "      <td>3.060296</td>\n",
       "      <td>2.756901</td>\n",
       "      <td>2.976883</td>\n",
       "      <td>3.202129</td>\n",
       "      <td>3.250375</td>\n",
       "      <td>3.439396</td>\n",
       "      <td>3.358158</td>\n",
       "      <td>3.382363</td>\n",
       "      <td>3.351055</td>\n",
       "      <td>3.631833</td>\n",
       "      <td>3.304290</td>\n",
       "      <td>3.640428</td>\n",
       "      <td>3.286351</td>\n",
       "      <td>14.815618</td>\n",
       "      <td>15.178678</td>\n",
       "    </tr>\n",
       "    <tr>\n",
       "      <th>std</th>\n",
       "      <td>37463.812252</td>\n",
       "      <td>15.114964</td>\n",
       "      <td>997.147281</td>\n",
       "      <td>1.327829</td>\n",
       "      <td>1.525075</td>\n",
       "      <td>1.398929</td>\n",
       "      <td>1.277621</td>\n",
       "      <td>1.329533</td>\n",
       "      <td>1.349509</td>\n",
       "      <td>1.319088</td>\n",
       "      <td>1.332991</td>\n",
       "      <td>1.288354</td>\n",
       "      <td>1.315605</td>\n",
       "      <td>1.180903</td>\n",
       "      <td>1.265396</td>\n",
       "      <td>1.175663</td>\n",
       "      <td>1.312273</td>\n",
       "      <td>38.230901</td>\n",
       "      <td>38.698682</td>\n",
       "    </tr>\n",
       "    <tr>\n",
       "      <th>min</th>\n",
       "      <td>1.000000</td>\n",
       "      <td>7.000000</td>\n",
       "      <td>31.000000</td>\n",
       "      <td>0.000000</td>\n",
       "      <td>0.000000</td>\n",
       "      <td>0.000000</td>\n",
       "      <td>0.000000</td>\n",
       "      <td>0.000000</td>\n",
       "      <td>0.000000</td>\n",
       "      <td>0.000000</td>\n",
       "      <td>0.000000</td>\n",
       "      <td>0.000000</td>\n",
       "      <td>0.000000</td>\n",
       "      <td>1.000000</td>\n",
       "      <td>0.000000</td>\n",
       "      <td>0.000000</td>\n",
       "      <td>0.000000</td>\n",
       "      <td>0.000000</td>\n",
       "      <td>0.000000</td>\n",
       "    </tr>\n",
       "    <tr>\n",
       "      <th>25%</th>\n",
       "      <td>32533.750000</td>\n",
       "      <td>27.000000</td>\n",
       "      <td>414.000000</td>\n",
       "      <td>2.000000</td>\n",
       "      <td>2.000000</td>\n",
       "      <td>2.000000</td>\n",
       "      <td>2.000000</td>\n",
       "      <td>2.000000</td>\n",
       "      <td>2.000000</td>\n",
       "      <td>2.000000</td>\n",
       "      <td>2.000000</td>\n",
       "      <td>2.000000</td>\n",
       "      <td>2.000000</td>\n",
       "      <td>3.000000</td>\n",
       "      <td>3.000000</td>\n",
       "      <td>3.000000</td>\n",
       "      <td>2.000000</td>\n",
       "      <td>0.000000</td>\n",
       "      <td>0.000000</td>\n",
       "    </tr>\n",
       "    <tr>\n",
       "      <th>50%</th>\n",
       "      <td>64856.500000</td>\n",
       "      <td>40.000000</td>\n",
       "      <td>843.000000</td>\n",
       "      <td>3.000000</td>\n",
       "      <td>3.000000</td>\n",
       "      <td>3.000000</td>\n",
       "      <td>3.000000</td>\n",
       "      <td>3.000000</td>\n",
       "      <td>3.000000</td>\n",
       "      <td>4.000000</td>\n",
       "      <td>4.000000</td>\n",
       "      <td>4.000000</td>\n",
       "      <td>4.000000</td>\n",
       "      <td>4.000000</td>\n",
       "      <td>3.000000</td>\n",
       "      <td>4.000000</td>\n",
       "      <td>3.000000</td>\n",
       "      <td>0.000000</td>\n",
       "      <td>0.000000</td>\n",
       "    </tr>\n",
       "    <tr>\n",
       "      <th>75%</th>\n",
       "      <td>97368.250000</td>\n",
       "      <td>51.000000</td>\n",
       "      <td>1743.000000</td>\n",
       "      <td>4.000000</td>\n",
       "      <td>4.000000</td>\n",
       "      <td>4.000000</td>\n",
       "      <td>4.000000</td>\n",
       "      <td>4.000000</td>\n",
       "      <td>4.000000</td>\n",
       "      <td>5.000000</td>\n",
       "      <td>4.000000</td>\n",
       "      <td>4.000000</td>\n",
       "      <td>4.000000</td>\n",
       "      <td>5.000000</td>\n",
       "      <td>4.000000</td>\n",
       "      <td>5.000000</td>\n",
       "      <td>4.000000</td>\n",
       "      <td>12.000000</td>\n",
       "      <td>13.000000</td>\n",
       "    </tr>\n",
       "    <tr>\n",
       "      <th>max</th>\n",
       "      <td>129880.000000</td>\n",
       "      <td>85.000000</td>\n",
       "      <td>4983.000000</td>\n",
       "      <td>5.000000</td>\n",
       "      <td>5.000000</td>\n",
       "      <td>5.000000</td>\n",
       "      <td>5.000000</td>\n",
       "      <td>5.000000</td>\n",
       "      <td>5.000000</td>\n",
       "      <td>5.000000</td>\n",
       "      <td>5.000000</td>\n",
       "      <td>5.000000</td>\n",
       "      <td>5.000000</td>\n",
       "      <td>5.000000</td>\n",
       "      <td>5.000000</td>\n",
       "      <td>5.000000</td>\n",
       "      <td>5.000000</td>\n",
       "      <td>1592.000000</td>\n",
       "      <td>1584.000000</td>\n",
       "    </tr>\n",
       "  </tbody>\n",
       "</table>\n",
       "</div>"
      ],
      "text/plain": [
       "                  id            Age  Store distance   InStore wifi  \\\n",
       "count  103904.000000  103904.000000   103904.000000  103904.000000   \n",
       "mean    64924.210502      39.379706     1189.448375       2.729683   \n",
       "std     37463.812252      15.114964      997.147281       1.327829   \n",
       "min         1.000000       7.000000       31.000000       0.000000   \n",
       "25%     32533.750000      27.000000      414.000000       2.000000   \n",
       "50%     64856.500000      40.000000      843.000000       3.000000   \n",
       "75%     97368.250000      51.000000     1743.000000       4.000000   \n",
       "max    129880.000000      85.000000     4983.000000       5.000000   \n",
       "\n",
       "       Open/Close time convenient  Easy of online shopping  Store location  \\\n",
       "count               103904.000000            103904.000000   103904.000000   \n",
       "mean                     3.060296                 2.756901        2.976883   \n",
       "std                      1.525075                 1.398929        1.277621   \n",
       "min                      0.000000                 0.000000        0.000000   \n",
       "25%                      2.000000                 2.000000        2.000000   \n",
       "50%                      3.000000                 3.000000        3.000000   \n",
       "75%                      4.000000                 4.000000        4.000000   \n",
       "max                      5.000000                 5.000000        5.000000   \n",
       "\n",
       "       Toilet cleaning  Dressing room   Waiting room  Kids entertainment  \\\n",
       "count    103904.000000  103904.000000  103904.000000       103904.000000   \n",
       "mean          3.202129       3.250375       3.439396            3.358158   \n",
       "std           1.329533       1.349509       1.319088            1.332991   \n",
       "min           0.000000       0.000000       0.000000            0.000000   \n",
       "25%           2.000000       2.000000       2.000000            2.000000   \n",
       "50%           3.000000       3.000000       4.000000            4.000000   \n",
       "75%           4.000000       4.000000       5.000000            4.000000   \n",
       "max           5.000000       5.000000       5.000000            5.000000   \n",
       "\n",
       "       Seller service      Showroom      Self-Store  Purchase service  \\\n",
       "count   103904.000000  103904.000000  103904.000000     103904.000000   \n",
       "mean         3.382363       3.351055       3.631833          3.304290   \n",
       "std          1.288354       1.315605       1.180903          1.265396   \n",
       "min          0.000000       0.000000       1.000000          0.000000   \n",
       "25%          2.000000       2.000000       3.000000          3.000000   \n",
       "50%          4.000000       4.000000       4.000000          3.000000   \n",
       "75%          4.000000       4.000000       5.000000          4.000000   \n",
       "max          5.000000       5.000000       5.000000          5.000000   \n",
       "\n",
       "       Store Service    Cleanliness  Carrier delay in minutes  \\\n",
       "count  103904.000000  103904.000000             103904.000000   \n",
       "mean        3.640428       3.286351                 14.815618   \n",
       "std         1.175663       1.312273                 38.230901   \n",
       "min         0.000000       0.000000                  0.000000   \n",
       "25%         3.000000       2.000000                  0.000000   \n",
       "50%         4.000000       3.000000                  0.000000   \n",
       "75%         5.000000       4.000000                 12.000000   \n",
       "max         5.000000       5.000000               1592.000000   \n",
       "\n",
       "       Delivery delay in minutes  \n",
       "count              103594.000000  \n",
       "mean                   15.178678  \n",
       "std                    38.698682  \n",
       "min                     0.000000  \n",
       "25%                     0.000000  \n",
       "50%                     0.000000  \n",
       "75%                    13.000000  \n",
       "max                  1584.000000  "
      ]
     },
     "execution_count": 87,
     "metadata": {},
     "output_type": "execute_result"
    }
   ],
   "source": [
    "# Verificando as estatísticas básicas do conjunto de dados\n",
    "df.describe()\n"
   ]
  },
  {
   "cell_type": "code",
   "execution_count": 88,
   "metadata": {},
   "outputs": [
    {
     "name": "stdout",
     "output_type": "stream",
     "text": [
      "<class 'pandas.core.frame.DataFrame'>\n",
      "RangeIndex: 103904 entries, 0 to 103903\n",
      "Data columns (total 24 columns):\n",
      " #   Column                      Non-Null Count   Dtype  \n",
      "---  ------                      --------------   -----  \n",
      " 0   id                          103904 non-null  int64  \n",
      " 1   Gender                      103904 non-null  object \n",
      " 2   Customer Type               103904 non-null  object \n",
      " 3   Age                         103904 non-null  int64  \n",
      " 4   Type of Purchase            103904 non-null  object \n",
      " 5   Store size                  103904 non-null  object \n",
      " 6   Store distance              103904 non-null  int64  \n",
      " 7   InStore wifi                103904 non-null  int64  \n",
      " 8   Open/Close time convenient  103904 non-null  int64  \n",
      " 9   Easy of online shopping     103904 non-null  int64  \n",
      " 10  Store location              103904 non-null  int64  \n",
      " 11  Toilet cleaning             103904 non-null  int64  \n",
      " 12  Dressing room               103904 non-null  int64  \n",
      " 13  Waiting room                103904 non-null  int64  \n",
      " 14  Kids entertainment          103904 non-null  int64  \n",
      " 15  Seller service              103904 non-null  int64  \n",
      " 16  Showroom                    103904 non-null  int64  \n",
      " 17  Self-Store                  103904 non-null  int64  \n",
      " 18  Purchase service            103904 non-null  int64  \n",
      " 19  Store Service               103904 non-null  int64  \n",
      " 20  Cleanliness                 103904 non-null  int64  \n",
      " 21  Carrier delay in minutes    103904 non-null  int64  \n",
      " 22  Delivery delay in minutes   103594 non-null  float64\n",
      " 23  Satisfaction                103904 non-null  object \n",
      "dtypes: float64(1), int64(18), object(5)\n",
      "memory usage: 19.0+ MB\n"
     ]
    }
   ],
   "source": [
    "# Obter informações gerais sobre o dataframe, Algumas variáveis são numéricas, enquanto outras são categóricas.\n",
    "df.info()\n"
   ]
  },
  {
   "cell_type": "code",
   "execution_count": 89,
   "metadata": {},
   "outputs": [
    {
     "data": {
      "image/png": "[encoded data removed]",
      "text/plain": [
       "<Figure size 1000x1000 with 20 Axes>"
      ]
     },
     "metadata": {},
     "output_type": "display_data"
    }
   ],
   "source": [
    "# Para visualizar a distribuição das variáveis numéricas, podemos utilizar o histograma\n",
    "\n",
    "plt.rcParams['figure.figsize'] = [10,10]\n",
    "num_attributes = df.select_dtypes( include= ['float64', 'int64'] )\n",
    "num_attributes.hist( bins= 100);"
   ]
  },
  {
   "cell_type": "markdown",
   "metadata": {},
   "source": [
    "## Rename columns"
   ]
  },
  {
   "cell_type": "code",
   "execution_count": 24,
   "metadata": {},
   "outputs": [],
   "source": [
    "# df.rename(columns={'id', 'Gender', 'Customer Type', 'Age', 'Type of Purchase',\n",
    "#        'Store size', 'Store distance', 'InStore wifi',\n",
    "#        'Open/Close time convenient', 'Easy of online shopping',\n",
    "#        'Store location', 'Toilet cleaning', 'Dressing room', 'Waiting room',\n",
    "#        'Kids entertainment', 'Seller service', 'Showroom ', 'Self-Store',\n",
    "#        'Purchase service', 'Store Service', 'Cleanliness',\n",
    "#        'Carrier delay in minutes', 'Delivery delay in minutes',\n",
    "#        'Satisfaction'})"
   ]
  },
  {
   "cell_type": "markdown",
   "metadata": {},
   "source": [
    "## 1.3 Data Dimension"
   ]
  },
  {
   "cell_type": "code",
   "execution_count": 28,
   "metadata": {},
   "outputs": [
    {
     "name": "stdout",
     "output_type": "stream",
     "text": [
      "Number of rows: 103904\n",
      "Number of columns: 24\n"
     ]
    }
   ],
   "source": [
    "# verificando o tamanho do conjunto de dados\n",
    "show_dimensions(df)"
   ]
  },
  {
   "cell_type": "markdown",
   "metadata": {},
   "source": [
    "### Dtypes"
   ]
  },
  {
   "cell_type": "code",
   "execution_count": 29,
   "metadata": {},
   "outputs": [
    {
     "name": "stdout",
     "output_type": "stream",
     "text": [
      "id                              int64\n",
      "Gender                         object\n",
      "Customer Type                  object\n",
      "Age                             int64\n",
      "Type of Purchase               object\n",
      "Store size                     object\n",
      "Store distance                  int64\n",
      "InStore wifi                    int64\n",
      "Open/Close time convenient      int64\n",
      "Easy of online shopping         int64\n",
      "Store location                  int64\n",
      "Toilet cleaning                 int64\n",
      "Dressing room                   int64\n",
      "Waiting room                    int64\n",
      "Kids entertainment              int64\n",
      "Seller service                  int64\n",
      "Showroom                        int64\n",
      "Self-Store                      int64\n",
      "Purchase service                int64\n",
      "Store Service                   int64\n",
      "Cleanliness                     int64\n",
      "Carrier delay in minutes        int64\n",
      "Delivery delay in minutes     float64\n",
      "Satisfaction                   object\n",
      "dtype: object\n"
     ]
    }
   ],
   "source": [
    "show_dtypes(df)"
   ]
  },
  {
   "cell_type": "markdown",
   "metadata": {},
   "source": [
    "## 1.4 Check NaN "
   ]
  },
  {
   "cell_type": "code",
   "execution_count": 30,
   "metadata": {},
   "outputs": [
    {
     "data": {
      "text/plain": [
       "id                              0\n",
       "Gender                          0\n",
       "Customer Type                   0\n",
       "Age                             0\n",
       "Type of Purchase                0\n",
       "Store size                      0\n",
       "Store distance                  0\n",
       "InStore wifi                    0\n",
       "Open/Close time convenient      0\n",
       "Easy of online shopping         0\n",
       "Store location                  0\n",
       "Toilet cleaning                 0\n",
       "Dressing room                   0\n",
       "Waiting room                    0\n",
       "Kids entertainment              0\n",
       "Seller service                  0\n",
       "Showroom                        0\n",
       "Self-Store                      0\n",
       "Purchase service                0\n",
       "Store Service                   0\n",
       "Cleanliness                     0\n",
       "Carrier delay in minutes        0\n",
       "Delivery delay in minutes     310\n",
       "Satisfaction                    0\n",
       "dtype: int64"
      ]
     },
     "execution_count": 30,
     "metadata": {},
     "output_type": "execute_result"
    }
   ],
   "source": [
    "# Verificando a presença de valores nulos\n",
    "df.isna().sum()#/len(df)"
   ]
  },
  {
   "cell_type": "markdown",
   "metadata": {},
   "source": [
    "### Fill drop Na"
   ]
  },
  {
   "cell_type": "code",
   "execution_count": 31,
   "metadata": {},
   "outputs": [],
   "source": [
    "#df.dropna(inplace=True)\n",
    "df['Delivery delay in minutes'] = df['Delivery delay in minutes'].apply(\n",
    "    lambda x: 'nao_identificado' if pd.isnull(x) else x)"
   ]
  },
  {
   "cell_type": "code",
   "execution_count": 32,
   "metadata": {},
   "outputs": [
    {
     "data": {
      "text/plain": [
       "id                            0\n",
       "Gender                        0\n",
       "Customer Type                 0\n",
       "Age                           0\n",
       "Type of Purchase              0\n",
       "Store size                    0\n",
       "Store distance                0\n",
       "InStore wifi                  0\n",
       "Open/Close time convenient    0\n",
       "Easy of online shopping       0\n",
       "Store location                0\n",
       "Toilet cleaning               0\n",
       "Dressing room                 0\n",
       "Waiting room                  0\n",
       "Kids entertainment            0\n",
       "Seller service                0\n",
       "Showroom                      0\n",
       "Self-Store                    0\n",
       "Purchase service              0\n",
       "Store Service                 0\n",
       "Cleanliness                   0\n",
       "Carrier delay in minutes      0\n",
       "Delivery delay in minutes     0\n",
       "Satisfaction                  0\n",
       "dtype: int64"
      ]
     },
     "execution_count": 32,
     "metadata": {},
     "output_type": "execute_result"
    }
   ],
   "source": [
    "df.isna().sum()"
   ]
  },
  {
   "cell_type": "code",
   "execution_count": 37,
   "metadata": {},
   "outputs": [
    {
     "data": {
      "text/plain": [
       "0"
      ]
     },
     "execution_count": 37,
     "metadata": {},
     "output_type": "execute_result"
    }
   ],
   "source": [
    "# Verificar valores duplicados\n",
    "df.duplicated().sum()"
   ]
  },
  {
   "cell_type": "markdown",
   "metadata": {},
   "source": [
    "### Change Type"
   ]
  },
  {
   "cell_type": "code",
   "execution_count": 38,
   "metadata": {},
   "outputs": [],
   "source": [
    "# df['Delivery delay in minutes'] = df['Delivery delay in minutes'].astype('int')"
   ]
  },
  {
   "cell_type": "markdown",
   "metadata": {},
   "source": [
    "## 1.6. Data Balancing"
   ]
  },
  {
   "cell_type": "code",
   "execution_count": 39,
   "metadata": {},
   "outputs": [],
   "source": [
    "# df[''].value_counts(normalize=True)\n"
   ]
  },
  {
   "cell_type": "markdown",
   "metadata": {},
   "source": [
    "# EDA - Exploratory Data Analysis"
   ]
  },
  {
   "cell_type": "code",
   "execution_count": 69,
   "metadata": {},
   "outputs": [],
   "source": [
    "df1 = df.copy()"
   ]
  },
  {
   "cell_type": "code",
   "execution_count": 77,
   "metadata": {},
   "outputs": [],
   "source": [
    "import seaborn as sns\n"
   ]
  },
  {
   "cell_type": "code",
   "execution_count": 80,
   "metadata": {},
   "outputs": [],
   "source": [
    "# import sweetviz as sv\n",
    "\n",
    "# # Carregue seus dados em um DataFrame (df1)\n",
    "\n",
    "# # Gere o relatório de análise exploratória\n",
    "# report = sv.analyze(df1)\n",
    "\n",
    "# # Visualize o relatório no navegador\n",
    "# report.show_html('report.html')"
   ]
  },
  {
   "cell_type": "code",
   "execution_count": 79,
   "metadata": {},
   "outputs": [
    {
     "ename": "ValueError",
     "evalue": "Could not interpret input 'hotel_rating'",
     "output_type": "error",
     "traceback": [
      "\u001b[0;31m---------------------------------------------------------------------------\u001b[0m",
      "\u001b[0;31mValueError\u001b[0m                                Traceback (most recent call last)",
      "Cell \u001b[0;32mIn[79], line 4\u001b[0m\n\u001b[1;32m      1\u001b[0m sns\u001b[38;5;241m.\u001b[39mset(style\u001b[38;5;241m=\u001b[39m\u001b[38;5;124m\"\u001b[39m\u001b[38;5;124mdarkgrid\u001b[39m\u001b[38;5;124m\"\u001b[39m)\n\u001b[1;32m      3\u001b[0m \u001b[38;5;66;03m# Plotando o gráfico de barras com a contagem\u001b[39;00m\n\u001b[0;32m----> 4\u001b[0m ax \u001b[38;5;241m=\u001b[39m \u001b[43msns\u001b[49m\u001b[38;5;241;43m.\u001b[39;49m\u001b[43mcountplot\u001b[49m\u001b[43m(\u001b[49m\u001b[43mx\u001b[49m\u001b[38;5;241;43m=\u001b[39;49m\u001b[38;5;124;43m\"\u001b[39;49m\u001b[38;5;124;43mhotel_rating\u001b[39;49m\u001b[38;5;124;43m\"\u001b[39;49m\u001b[43m,\u001b[49m\n\u001b[1;32m      5\u001b[0m \u001b[43m                   \u001b[49m\u001b[43mhue\u001b[49m\u001b[38;5;241;43m=\u001b[39;49m\u001b[38;5;124;43m\"\u001b[39;49m\u001b[38;5;124;43mtourism_agency_booking\u001b[39;49m\u001b[38;5;124;43m\"\u001b[39;49m\u001b[43m,\u001b[49m\u001b[43m \u001b[49m\u001b[43mdata\u001b[49m\u001b[38;5;241;43m=\u001b[39;49m\u001b[43mdf1\u001b[49m\u001b[43m)\u001b[49m\n\u001b[1;32m      7\u001b[0m \u001b[38;5;66;03m# Adicionando o valor da contagem em cima de cada barra\u001b[39;00m\n\u001b[1;32m      8\u001b[0m \u001b[38;5;28;01mfor\u001b[39;00m p \u001b[38;5;129;01min\u001b[39;00m ax\u001b[38;5;241m.\u001b[39mpatches:\n",
      "File \u001b[0;32m/usr/local/lib/python3.10/site-packages/seaborn/categorical.py:2943\u001b[0m, in \u001b[0;36mcountplot\u001b[0;34m(data, x, y, hue, order, hue_order, orient, color, palette, saturation, width, dodge, ax, **kwargs)\u001b[0m\n\u001b[1;32m   2940\u001b[0m \u001b[39melif\u001b[39;00m x \u001b[39mis\u001b[39;00m \u001b[39mnot\u001b[39;00m \u001b[39mNone\u001b[39;00m \u001b[39mand\u001b[39;00m y \u001b[39mis\u001b[39;00m \u001b[39mnot\u001b[39;00m \u001b[39mNone\u001b[39;00m:\n\u001b[1;32m   2941\u001b[0m     \u001b[39mraise\u001b[39;00m \u001b[39mValueError\u001b[39;00m(\u001b[39m\"\u001b[39m\u001b[39mCannot pass values for both `x` and `y`\u001b[39m\u001b[39m\"\u001b[39m)\n\u001b[0;32m-> 2943\u001b[0m plotter \u001b[39m=\u001b[39m _CountPlotter(\n\u001b[1;32m   2944\u001b[0m     x, y, hue, data, order, hue_order,\n\u001b[1;32m   2945\u001b[0m     estimator, errorbar, n_boot, units, seed,\n\u001b[1;32m   2946\u001b[0m     orient, color, palette, saturation,\n\u001b[1;32m   2947\u001b[0m     width, errcolor, errwidth, capsize, dodge\n\u001b[1;32m   2948\u001b[0m )\n\u001b[1;32m   2950\u001b[0m plotter\u001b[39m.\u001b[39mvalue_label \u001b[39m=\u001b[39m \u001b[39m\"\u001b[39m\u001b[39mcount\u001b[39m\u001b[39m\"\u001b[39m\n\u001b[1;32m   2952\u001b[0m \u001b[39mif\u001b[39;00m ax \u001b[39mis\u001b[39;00m \u001b[39mNone\u001b[39;00m:\n",
      "File \u001b[0;32m/usr/local/lib/python3.10/site-packages/seaborn/categorical.py:1530\u001b[0m, in \u001b[0;36m_BarPlotter.__init__\u001b[0;34m(self, x, y, hue, data, order, hue_order, estimator, errorbar, n_boot, units, seed, orient, color, palette, saturation, width, errcolor, errwidth, capsize, dodge)\u001b[0m\n\u001b[1;32m   1525\u001b[0m \u001b[39mdef\u001b[39;00m \u001b[39m__init__\u001b[39m(\u001b[39mself\u001b[39m, x, y, hue, data, order, hue_order,\n\u001b[1;32m   1526\u001b[0m              estimator, errorbar, n_boot, units, seed,\n\u001b[1;32m   1527\u001b[0m              orient, color, palette, saturation, width,\n\u001b[1;32m   1528\u001b[0m              errcolor, errwidth, capsize, dodge):\n\u001b[1;32m   1529\u001b[0m \u001b[39m    \u001b[39m\u001b[39m\"\"\"Initialize the plotter.\"\"\"\u001b[39;00m\n\u001b[0;32m-> 1530\u001b[0m     \u001b[39mself\u001b[39;49m\u001b[39m.\u001b[39;49mestablish_variables(x, y, hue, data, orient,\n\u001b[1;32m   1531\u001b[0m                              order, hue_order, units)\n\u001b[1;32m   1532\u001b[0m     \u001b[39mself\u001b[39m\u001b[39m.\u001b[39mestablish_colors(color, palette, saturation)\n\u001b[1;32m   1533\u001b[0m     \u001b[39mself\u001b[39m\u001b[39m.\u001b[39mestimate_statistic(estimator, errorbar, n_boot, seed)\n",
      "File \u001b[0;32m/usr/local/lib/python3.10/site-packages/seaborn/categorical.py:541\u001b[0m, in \u001b[0;36m_CategoricalPlotter.establish_variables\u001b[0;34m(self, x, y, hue, data, orient, order, hue_order, units)\u001b[0m\n\u001b[1;32m    539\u001b[0m     \u001b[39mif\u001b[39;00m \u001b[39misinstance\u001b[39m(var, \u001b[39mstr\u001b[39m):\n\u001b[1;32m    540\u001b[0m         err \u001b[39m=\u001b[39m \u001b[39mf\u001b[39m\u001b[39m\"\u001b[39m\u001b[39mCould not interpret input \u001b[39m\u001b[39m'\u001b[39m\u001b[39m{\u001b[39;00mvar\u001b[39m}\u001b[39;00m\u001b[39m'\u001b[39m\u001b[39m\"\u001b[39m\n\u001b[0;32m--> 541\u001b[0m         \u001b[39mraise\u001b[39;00m \u001b[39mValueError\u001b[39;00m(err)\n\u001b[1;32m    543\u001b[0m \u001b[39m# Figure out the plotting orientation\u001b[39;00m\n\u001b[1;32m    544\u001b[0m orient \u001b[39m=\u001b[39m infer_orient(\n\u001b[1;32m    545\u001b[0m     x, y, orient, require_numeric\u001b[39m=\u001b[39m\u001b[39mself\u001b[39m\u001b[39m.\u001b[39mrequire_numeric\n\u001b[1;32m    546\u001b[0m )\n",
      "\u001b[0;31mValueError\u001b[0m: Could not interpret input 'hotel_rating'"
     ]
    }
   ],
   "source": [
    "\n",
    "sns.set(style=\"darkgrid\")\n",
    "\n",
    "# Plotando o gráfico de barras com a contagem\n",
    "ax = sns.countplot(x=\"hotel_rating\",\n",
    "                   hue=\"tourism_agency_booking\", data=df1)\n",
    "\n",
    "# Adicionando o valor da contagem em cima de cada barra\n",
    "for p in ax.patches:\n",
    "    height = p.get_height()\n",
    "    ax.text(p.get_x()+p.get_width()/2., height+3,\n",
    "            '{:.0f}'.format(height), ha=\"center\")\n",
    "\n",
    "plt.show()\n"
   ]
  },
  {
   "cell_type": "markdown",
   "metadata": {},
   "source": [
    "## Multivariate Analysis"
   ]
  },
  {
   "cell_type": "code",
   "execution_count": 73,
   "metadata": {},
   "outputs": [
    {
     "ename": "NameError",
     "evalue": "name 'sns' is not defined",
     "output_type": "error",
     "traceback": [
      "\u001b[0;31m---------------------------------------------------------------------------\u001b[0m",
      "\u001b[0;31mNameError\u001b[0m                                 Traceback (most recent call last)",
      "Cell \u001b[0;32mIn[73], line 5\u001b[0m\n\u001b[1;32m      3\u001b[0m num_attributes \u001b[38;5;241m=\u001b[39m df1\u001b[38;5;241m.\u001b[39mselect_dtypes(include\u001b[38;5;241m=\u001b[39m[\u001b[38;5;124m'\u001b[39m\u001b[38;5;124mint64\u001b[39m\u001b[38;5;124m'\u001b[39m, \u001b[38;5;124m'\u001b[39m\u001b[38;5;124mfloat64\u001b[39m\u001b[38;5;124m'\u001b[39m])\n\u001b[1;32m      4\u001b[0m corr \u001b[38;5;241m=\u001b[39m num_attributes\u001b[38;5;241m.\u001b[39mcorr(method\u001b[38;5;241m=\u001b[39m\u001b[38;5;124m'\u001b[39m\u001b[38;5;124mpearson\u001b[39m\u001b[38;5;124m'\u001b[39m)\n\u001b[0;32m----> 5\u001b[0m \u001b[43msns\u001b[49m\u001b[38;5;241m.\u001b[39mheatmap(corr, annot\u001b[38;5;241m=\u001b[39m\u001b[38;5;28;01mTrue\u001b[39;00m, fmt\u001b[38;5;241m=\u001b[39m\u001b[38;5;124m'\u001b[39m\u001b[38;5;124m.2f\u001b[39m\u001b[38;5;124m'\u001b[39m)\n",
      "\u001b[0;31mNameError\u001b[0m: name 'sns' is not defined"
     ]
    }
   ],
   "source": [
    "# Numerical Variables\n",
    "plt.rcParams['figure.figsize'] = [5, 5]\n",
    "num_attributes = df1.select_dtypes(include=['int64', 'float64'])\n",
    "corr = num_attributes.corr(method='pearson')\n",
    "sns.heatmap(corr, annot=True, fmt='.2f')\n"
   ]
  },
  {
   "cell_type": "code",
   "execution_count": 72,
   "metadata": {},
   "outputs": [
    {
     "ename": "NameError",
     "evalue": "name 'sns' is not defined",
     "output_type": "error",
     "traceback": [
      "\u001b[0;31m---------------------------------------------------------------------------\u001b[0m",
      "\u001b[0;31mNameError\u001b[0m                                 Traceback (most recent call last)",
      "Cell \u001b[0;32mIn[72], line 11\u001b[0m\n\u001b[1;32m      9\u001b[0m     lista\u001b[38;5;241m.\u001b[39mappend(lista2)\n\u001b[1;32m     10\u001b[0m cramer \u001b[38;5;241m=\u001b[39m pd\u001b[38;5;241m.\u001b[39mDataFrame(lista,columns\u001b[38;5;241m=\u001b[39mcat_attributes\u001b[38;5;241m.\u001b[39mcolumns,index\u001b[38;5;241m=\u001b[39mcat_attributes\u001b[38;5;241m.\u001b[39mcolumns)\n\u001b[0;32m---> 11\u001b[0m \u001b[43msns\u001b[49m\u001b[38;5;241m.\u001b[39mheatmap(cramer,annot\u001b[38;5;241m=\u001b[39m\u001b[38;5;28;01mTrue\u001b[39;00m);\n",
      "\u001b[0;31mNameError\u001b[0m: name 'sns' is not defined"
     ]
    }
   ],
   "source": [
    "# Categorical Variables\n",
    "plt.rcParams['figure.figsize'] = [8,8]\n",
    "cat_attributes = df1.select_dtypes(include='object')\n",
    "lista=[]\n",
    "for col in cat_attributes.columns:\n",
    "    lista2 =[]\n",
    "    for col2 in cat_attributes.columns:\n",
    "        lista2.append(cramer_v(cat_attributes[col], cat_attributes[col2]))\n",
    "    lista.append(lista2)\n",
    "cramer = pd.DataFrame(lista,columns=cat_attributes.columns,index=cat_attributes.columns)\n",
    "sns.heatmap(cramer,annot=True);"
   ]
  },
  {
   "cell_type": "code",
   "execution_count": null,
   "metadata": {},
   "outputs": [],
   "source": [
    "# Categorical Variables\n",
    "plt.rcParams['figure.figsize'] = [8,8]\n",
    "cat_attributes = df1.select_dtypes(include='object')\n",
    "lista=[]\n",
    "for col in cat_attributes.columns:\n",
    "    lista2 =[]\n",
    "    for col2 in cat_attributes.columns:\n",
    "        lista2.append(cramer_v(cat_attributes[col], cat_attributes[col2]))\n",
    "    lista.append(lista2)\n",
    "cramer = pd.DataFrame(lista,columns=cat_attributes.columns,index=cat_attributes.columns)\n",
    "sns.heatmap(cramer,annot=True);"
   ]
  },
  {
   "cell_type": "code",
   "execution_count": null,
   "metadata": {},
   "outputs": [],
   "source": []
  },
  {
   "cell_type": "markdown",
   "metadata": {},
   "source": []
  },
  {
   "cell_type": "code",
   "execution_count": null,
   "metadata": {},
   "outputs": [],
   "source": []
  },
  {
   "cell_type": "markdown",
   "metadata": {},
   "source": []
  },
  {
   "cell_type": "code",
   "execution_count": null,
   "metadata": {},
   "outputs": [],
   "source": []
  },
  {
   "cell_type": "code",
   "execution_count": null,
   "metadata": {},
   "outputs": [],
   "source": []
  },
  {
   "cell_type": "code",
   "execution_count": null,
   "metadata": {},
   "outputs": [],
   "source": []
  },
  {
   "cell_type": "code",
   "execution_count": null,
   "metadata": {},
   "outputs": [],
   "source": []
  },
  {
   "cell_type": "code",
   "execution_count": null,
   "metadata": {},
   "outputs": [],
   "source": []
  },
  {
   "cell_type": "markdown",
   "metadata": {},
   "source": []
  },
  {
   "cell_type": "code",
   "execution_count": null,
   "metadata": {},
   "outputs": [],
   "source": []
  },
  {
   "cell_type": "code",
   "execution_count": null,
   "metadata": {},
   "outputs": [],
   "source": []
  },
  {
   "cell_type": "code",
   "execution_count": null,
   "metadata": {},
   "outputs": [],
   "source": []
  },
  {
   "cell_type": "markdown",
   "metadata": {},
   "source": []
  },
  {
   "cell_type": "code",
   "execution_count": null,
   "metadata": {},
   "outputs": [],
   "source": []
  },
  {
   "cell_type": "code",
   "execution_count": null,
   "metadata": {},
   "outputs": [],
   "source": []
  },
  {
   "cell_type": "code",
   "execution_count": null,
   "metadata": {},
   "outputs": [],
   "source": []
  },
  {
   "cell_type": "markdown",
   "metadata": {},
   "source": []
  },
  {
   "cell_type": "code",
   "execution_count": null,
   "metadata": {},
   "outputs": [],
   "source": []
  },
  {
   "cell_type": "code",
   "execution_count": null,
   "metadata": {},
   "outputs": [],
   "source": []
  },
  {
   "cell_type": "code",
   "execution_count": null,
   "metadata": {},
   "outputs": [],
   "source": []
  },
  {
   "cell_type": "markdown",
   "metadata": {},
   "source": []
  },
  {
   "cell_type": "code",
   "execution_count": null,
   "metadata": {},
   "outputs": [],
   "source": []
  },
  {
   "cell_type": "code",
   "execution_count": null,
   "metadata": {},
   "outputs": [],
   "source": []
  },
  {
   "cell_type": "code",
   "execution_count": null,
   "metadata": {},
   "outputs": [],
   "source": []
  },
  {
   "cell_type": "code",
   "execution_count": 41,
   "metadata": {},
   "outputs": [
    {
     "data": {
      "text/plain": [
       "(103904, 24)"
      ]
     },
     "execution_count": 41,
     "metadata": {},
     "output_type": "execute_result"
    }
   ],
   "source": []
  },
  {
   "cell_type": "code",
   "execution_count": 42,
   "metadata": {},
   "outputs": [
    {
     "ename": "NameError",
     "evalue": "name 'dados' is not defined",
     "output_type": "error",
     "traceback": [
      "\u001b[0;31m---------------------------------------------------------------------------\u001b[0m",
      "\u001b[0;31mNameError\u001b[0m                                 Traceback (most recent call last)",
      "Cell \u001b[0;32mIn[42], line 3\u001b[0m\n\u001b[1;32m      1\u001b[0m \u001b[38;5;66;03m# Limpeza de dados (opcional)\u001b[39;00m\n\u001b[1;32m      2\u001b[0m \u001b[38;5;66;03m# Se necessário, realizar a limpeza dos dados de treinamento e teste\u001b[39;00m\n\u001b[0;32m----> 3\u001b[0m dados \u001b[38;5;241m=\u001b[39m \u001b[43mdados\u001b[49m\u001b[38;5;241m.\u001b[39mdropna()\n\u001b[1;32m      4\u001b[0m dados \u001b[38;5;241m=\u001b[39m dados\u001b[38;5;241m.\u001b[39mdrop_duplicates()\n",
      "\u001b[0;31mNameError\u001b[0m: name 'dados' is not defined"
     ]
    }
   ],
   "source": [
    "# Limpeza de dados (opcional)\n",
    "# Se necessário, realizar a limpeza dos dados de treinamento e teste\n",
    "dados = dados.dropna()\n",
    "dados = dados.drop_duplicates()\n",
    "\n"
   ]
  },
  {
   "cell_type": "code",
   "execution_count": null,
   "metadata": {},
   "outputs": [],
   "source": [
    "# Modelagem de dados\n",
    "# Preparar os dados para modelagem, dividindo-os em atributos de entrada (X) e variável alvo (y)\n",
    "X_treinamento = dados_treinamento.drop('Satisfacao', axis=1)\n",
    "y_treinamento = dados_treinamento['Satisfacao']\n",
    "X_teste = dados_teste.drop('Satisfacao', axis=1)\n",
    "y_teste = dados_teste['Satisfacao']\n",
    "\n"
   ]
  },
  {
   "cell_type": "code",
   "execution_count": null,
   "metadata": {},
   "outputs": [],
   "source": [
    "# Aplicação dos algoritmos de ML\n",
    "# Escolher e aplicar um algoritmo de aprendizado de máquina, como regressão logística\n",
    "modelo = LogisticRegression()\n",
    "modelo.fit(X_treinamento, y_treinamento)\n",
    "\n"
   ]
  },
  {
   "cell_type": "code",
   "execution_count": null,
   "metadata": {},
   "outputs": [],
   "source": [
    "# Avaliação de performance dos algoritmos\n",
    "# Avaliar o desempenho do modelo utilizando métricas, como acurácia\n",
    "y_pred = modelo.predict(X_teste)\n",
    "acuracia = accuracy_score(y_teste, y_pred)\n",
    "print(\"Acurácia do modelo:\", acuracia)\n",
    "\n"
   ]
  },
  {
   "cell_type": "code",
   "execution_count": null,
   "metadata": {},
   "outputs": [],
   "source": [
    "# Publicação do modelo em Produção\n",
    "# Utilizar o modelo treinado para prever a satisfação de novos clientes em produção\n",
    "novo_cliente = pd.DataFrame([[...]])  # Dados do novo cliente\n",
    "satisfacao_pred = modelo.predict(novo_cliente)\n",
    "print(\"Previsão de satisfação:\", satisfacao_pred)"
   ]
  },
  {
   "cell_type": "code",
   "execution_count": null,
   "metadata": {},
   "outputs": [],
   "source": []
  },
  {
   "cell_type": "code",
   "execution_count": null,
   "metadata": {},
   "outputs": [],
   "source": []
  },
  {
   "cell_type": "code",
   "execution_count": null,
   "metadata": {},
   "outputs": [],
   "source": []
  },
  {
   "cell_type": "code",
   "execution_count": null,
   "metadata": {},
   "outputs": [],
   "source": []
  },
  {
   "cell_type": "code",
   "execution_count": null,
   "metadata": {},
   "outputs": [],
   "source": [
    "# Entendimento de Negócio\n",
    "# Faça uma análise detalhada do negócio, entenda as necessidades e requisitos, e identifique as variáveis relevantes para a análise.\n",
    "\n"
   ]
  },
  {
   "cell_type": "code",
   "execution_count": null,
   "metadata": {},
   "outputs": [],
   "source": [
    "# Coleta de dados\n",
    "# Carregue os dados relevantes em um DataFrame ou estrutura de dados adequada usando bibliotecas como pandas.\n",
    "dados = pd.read_excel('caminho/do/arquivo.xlsx')\n",
    "\n"
   ]
  },
  {
   "cell_type": "code",
   "execution_count": null,
   "metadata": {},
   "outputs": [],
   "source": [
    "# Limpeza de dados\n",
    "# Realize a limpeza dos dados, como tratamento de valores ausentes, remoção de duplicatas ou correção de erros.\n",
    "dados = dados.dropna()\n",
    "dados = dados.drop_duplicates()\n",
    "\n"
   ]
  },
  {
   "cell_type": "code",
   "execution_count": null,
   "metadata": {},
   "outputs": [],
   "source": [
    "# Exploração de dados\n",
    "# Realize análises estatísticas, visualizações e gráficos para compreender a distribuição dos dados e identificar insights relevantes.\n",
    "descricao = dados.describe()\n",
    "plt.hist(dados['Coluna'])\n",
    "plt.xlabel('Coluna')\n",
    "plt.ylabel('Frequência')\n",
    "plt.show()\n",
    "\n"
   ]
  },
  {
   "cell_type": "code",
   "execution_count": null,
   "metadata": {},
   "outputs": [],
   "source": [
    "# Modelagem de dados\n",
    "# Prepare os dados para modelagem, como transformação de variáveis categóricas em numéricas e divisão em conjunto de treinamento e teste.\n",
    "X = dados.drop('Variavel_Resposta', axis=1)\n",
    "y = dados['Variavel_Resposta']\n",
    "X_train, X_test, y_train, y_test = train_test_split(X, y, test_size=0.2, random_state=42)\n",
    "\n"
   ]
  },
  {
   "cell_type": "code",
   "execution_count": null,
   "metadata": {},
   "outputs": [],
   "source": [
    "# Aplicação dos algoritmos de ML\n",
    "# Escolha e aplique os algoritmos de aprendizado de máquina adequados aos seus dados e objetivo, como regressão logística, árvores de decisão, etc.\n",
    "modelo = LogisticRegression()\n",
    "modelo.fit(X_train, y_train)\n",
    "\n"
   ]
  },
  {
   "cell_type": "code",
   "execution_count": null,
   "metadata": {},
   "outputs": [],
   "source": [
    "# Avaliação de performance dos algoritmos\n",
    "# Avalie a performance do modelo usando métricas apropriadas, como acurácia, precisão, recall, etc.\n",
    "y_pred = modelo.predict(X_test)\n",
    "acuracia = accuracy_score(y_test, y_pred)\n",
    "print(\"Acurácia do modelo:\", acuracia)\n",
    "\n"
   ]
  },
  {
   "cell_type": "code",
   "execution_count": null,
   "metadata": {},
   "outputs": [],
   "source": [
    "# Publicação do modelo em Produção\n",
    "# Implante o modelo treinado em produção, integrando-o a um sistema ou disponibilizando-o para uso conforme necessário.\n",
    "# Isso pode envolver a criação de APIs, a implementação em uma plataforma ou a integração em um fluxo de trabalho existente."
   ]
  }
 ],
 "metadata": {
  "kernelspec": {
   "display_name": "Python 3.10.11 64-bit",
   "language": "python",
   "name": "python3"
  },
  "language_info": {
   "codemirror_mode": {
    "name": "ipython",
    "version": 3
   },
   "file_extension": ".py",
   "mimetype": "text/x-python",
   "name": "python",
   "nbconvert_exporter": "python",
   "pygments_lexer": "ipython3",
   "version": "3.10.11"
  },
  "orig_nbformat": 4,
  "vscode": {
   "interpreter": {
    "hash": "7e1998ff7f8aa20ada591c520b972326324e5ea05489af9e422744c7c09f6dad"
   }
  }
 },
 "nbformat": 4,
 "nbformat_minor": 2
}
